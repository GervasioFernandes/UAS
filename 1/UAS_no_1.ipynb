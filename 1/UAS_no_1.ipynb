{
  "cells": [
    {
      "cell_type": "markdown",
      "metadata": {
        "id": "5fr9kDBhPdEx"
      },
      "source": [
        "Impoer Tool yang akan di gunakan"
      ]
    },
    {
      "cell_type": "code",
      "execution_count": 6,
      "metadata": {
        "id": "oRYNaOh8OYmg"
      },
      "outputs": [],
      "source": [
        "import pandas as pd\n",
        "from sklearn.neighbors import KNeighborsRegressor\n",
        "import numpy as np\n"
      ]
    },
    {
      "cell_type": "markdown",
      "metadata": {
        "id": "hBu2XMzOPhLO"
      },
      "source": [
        "Ambil Dataset"
      ]
    },
    {
      "cell_type": "code",
      "execution_count": 7,
      "metadata": {
        "colab": {
          "base_uri": "https://localhost:8080/"
        },
        "id": "3XEVyKQWOUcT",
        "outputId": "625cce06-91b7-42b6-92f5-0e6082446b8d"
      },
      "outputs": [
        {
          "name": "stdout",
          "output_type": "stream",
          "text": [
            "Dataset Head:\n",
            "   Kategori  Weather  Holiday  Game  Qty\n",
            "0         1        5        1     0  300\n",
            "1         2        3        1     1  225\n",
            "2         3        1        1     0   75\n",
            "3         4        4        0     1  200\n",
            "4         5        4        0     0  150\n"
          ]
        }
      ],
      "source": [
        "\n",
        "url = 'https://github.com/ekayuniar/datamining/raw/master/UAS/dataset%20soal%20no.1.xls'\n",
        "df_new = pd.read_excel(url)\n",
        "\n",
        "\n",
        "print(\"Dataset Head:\")\n",
        "print(df_new.head())"
      ]
    },
    {
      "cell_type": "markdown",
      "metadata": {
        "id": "2jCmAubNPoJX"
      },
      "source": [
        "tentukan target"
      ]
    },
    {
      "cell_type": "code",
      "execution_count": 8,
      "metadata": {
        "id": "9B98FY8sQXZZ"
      },
      "outputs": [],
      "source": [
        "X = df_new[['Weather', 'Holiday', 'Game']]\n",
        "y = df_new['Qty']"
      ]
    },
    {
      "cell_type": "markdown",
      "metadata": {
        "id": "OfEW6Q9QPty3"
      },
      "source": [
        "pembuatan model knn"
      ]
    },
    {
      "cell_type": "code",
      "execution_count": 9,
      "metadata": {
        "colab": {
          "base_uri": "https://localhost:8080/",
          "height": 75
        },
        "id": "ymeVY3xjOW_C",
        "outputId": "ca3d8f54-c3f2-4cea-fd74-e410b558132c"
      },
      "outputs": [
        {
          "data": {
            "text/plain": [
              "KNeighborsRegressor(n_neighbors=3)"
            ]
          },
          "execution_count": 9,
          "metadata": {},
          "output_type": "execute_result"
        }
      ],
      "source": [
        "knn = KNeighborsRegressor(n_neighbors=3)\n",
        "knn.fit(X, y)\n"
      ]
    },
    {
      "cell_type": "markdown",
      "metadata": {
        "id": "iijCnSrUPzm3"
      },
      "source": [
        "perhitungan knn\n"
      ]
    },
    {
      "cell_type": "code",
      "execution_count": 10,
      "metadata": {
        "colab": {
          "base_uri": "https://localhost:8080/"
        },
        "id": "id-sGFlCP2HF",
        "outputId": "422b0ef9-1d92-4e3f-ac0c-69b20766e6e7"
      },
      "outputs": [
        {
          "name": "stdout",
          "output_type": "stream",
          "text": [
            "Prediction for condition a (Weather=1, Holiday=0, Game=0): 116.66666666666667\n",
            "Prediction for condition b (Weather=4, Holiday=1, Game=1): 241.66666666666666\n"
          ]
        }
      ],
      "source": [
        "condition_a = np.array([[1, 0, 0]])\n",
        "pred_a = knn.predict(condition_a)\n",
        "\n",
        "\n",
        "condition_b = np.array([[4, 1, 1]])\n",
        "pred_b = knn.predict(condition_b)\n",
        "\n",
        "\n",
        "print(f\"Prediction for condition a (Weather=1, Holiday=0, Game=0): {pred_a[0]}\")\n",
        "print(f\"Prediction for condition b (Weather=4, Holiday=1, Game=1): {pred_b[0]}\")"
      ]
    }
  ],
  "metadata": {
    "colab": {
      "provenance": []
    },
    "kernelspec": {
      "display_name": "Python 3",
      "name": "python3"
    },
    "language_info": {
      "codemirror_mode": {
        "name": "ipython",
        "version": 3
      },
      "file_extension": ".py",
      "mimetype": "text/x-python",
      "name": "python",
      "nbconvert_exporter": "python",
      "pygments_lexer": "ipython3",
      "version": "3.9.7"
    }
  },
  "nbformat": 4,
  "nbformat_minor": 0
}
